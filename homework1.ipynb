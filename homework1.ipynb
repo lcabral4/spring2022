{
 "cells": [
  {
   "cell_type": "code",
   "execution_count": 1,
   "id": "82044ee8",
   "metadata": {},
   "outputs": [
    {
     "name": "stdout",
     "output_type": "stream",
     "text": [
      "Hello World\n"
     ]
    }
   ],
   "source": [
    "print('Hello World')"
   ]
  },
  {
   "cell_type": "markdown",
   "id": "acf2c058",
   "metadata": {},
   "source": [
    "## Things to try:\n"
   ]
  },
  {
   "cell_type": "markdown",
   "id": "26d3c537",
   "metadata": {},
   "source": [
    "### 1. Copy the print cell to a new cell below, remove the parenthesis, and run again. What heppened? Why?"
   ]
  },
  {
   "cell_type": "code",
   "execution_count": 3,
   "id": "8a9fe17f",
   "metadata": {},
   "outputs": [
    {
     "ename": "SyntaxError",
     "evalue": "invalid syntax (2588146850.py, line 1)",
     "output_type": "error",
     "traceback": [
      "\u001b[0;36m  File \u001b[0;32m\"/tmp/ipykernel_3868/2588146850.py\"\u001b[0;36m, line \u001b[0;32m1\u001b[0m\n\u001b[0;31m    print'Hello World'\u001b[0m\n\u001b[0m         ^\u001b[0m\n\u001b[0;31mSyntaxError\u001b[0m\u001b[0;31m:\u001b[0m invalid syntax\n"
     ]
    }
   ],
   "source": [
    "print'Hello World'"
   ]
  },
  {
   "cell_type": "markdown",
   "id": "619500bb",
   "metadata": {},
   "source": [
    "### We get an error here because in python 3 you need to enclose all print statements in parenthesis. Print in python is a function so you need to enclose it in parenthesis just like you would with any other python function. However, in python 2, print is not a function but a statement. So if you are running python 2, parenthesis would not be required and it would print without an invalid syntax error."
   ]
  },
  {
   "cell_type": "markdown",
   "id": "5b292c42",
   "metadata": {},
   "source": [
    "### 2. Write a for loop that prints numbers 0 to 9. Then do the same with a while loop."
   ]
  },
  {
   "cell_type": "code",
   "execution_count": 7,
   "id": "954a9ae0",
   "metadata": {},
   "outputs": [
    {
     "name": "stdout",
     "output_type": "stream",
     "text": [
      "0\n",
      "1\n",
      "2\n",
      "3\n",
      "4\n",
      "5\n",
      "6\n",
      "7\n",
      "8\n",
      "9\n"
     ]
    }
   ],
   "source": [
    "import numpy as np\n",
    "\n",
    "for i in range(0,10):\n",
    "    print(i)"
   ]
  },
  {
   "cell_type": "code",
   "execution_count": 9,
   "id": "83f8732a",
   "metadata": {},
   "outputs": [
    {
     "name": "stdout",
     "output_type": "stream",
     "text": [
      "1\n",
      "2\n",
      "3\n",
      "4\n",
      "5\n",
      "6\n",
      "7\n",
      "8\n",
      "9\n"
     ]
    }
   ],
   "source": [
    "x = 1\n",
    "while x < 10:\n",
    "    print(x)\n",
    "    x +=1"
   ]
  },
  {
   "cell_type": "markdown",
   "id": "23b189f9",
   "metadata": {},
   "source": [
    "### 3. Calculate 2$^{x}$ with 2\\*\\*(0.5), 2\\*\\*(1./2), 2\\*\\*(1/2), 2\\*\\*(1//2). What is the difference between them?"
   ]
  },
  {
   "cell_type": "code",
   "execution_count": 10,
   "id": "c046e3bd",
   "metadata": {},
   "outputs": [
    {
     "data": {
      "text/plain": [
       "1.4142135623730951"
      ]
     },
     "execution_count": 10,
     "metadata": {},
     "output_type": "execute_result"
    }
   ],
   "source": [
    "2**(0.5)"
   ]
  },
  {
   "cell_type": "code",
   "execution_count": 11,
   "id": "9052b263",
   "metadata": {},
   "outputs": [
    {
     "data": {
      "text/plain": [
       "1.4142135623730951"
      ]
     },
     "execution_count": 11,
     "metadata": {},
     "output_type": "execute_result"
    }
   ],
   "source": [
    "2**(1./2)"
   ]
  },
  {
   "cell_type": "code",
   "execution_count": 12,
   "id": "ce749762",
   "metadata": {},
   "outputs": [
    {
     "data": {
      "text/plain": [
       "1.4142135623730951"
      ]
     },
     "execution_count": 12,
     "metadata": {},
     "output_type": "execute_result"
    }
   ],
   "source": [
    "2**(1/2)"
   ]
  },
  {
   "cell_type": "code",
   "execution_count": 13,
   "id": "bbcbfcdc",
   "metadata": {},
   "outputs": [
    {
     "data": {
      "text/plain": [
       "1"
      ]
     },
     "execution_count": 13,
     "metadata": {},
     "output_type": "execute_result"
    }
   ],
   "source": [
    "2**(1//2)"
   ]
  },
  {
   "cell_type": "markdown",
   "id": "9be05a56",
   "metadata": {},
   "source": [
    "### Here 0.5, 1./2, and 1/2 are float and will return the same values. But 1//2 is an integer and wont return a decimal place like the rest. The // operator is used to return the nearest integer which is why we see 1 instead of 2. "
   ]
  },
  {
   "cell_type": "markdown",
   "id": "b20450e3",
   "metadata": {},
   "source": [
    "### 4. Run program 1.1 for free fall with different initial velocities, interpret the results."
   ]
  },
  {
   "cell_type": "code",
   "execution_count": 24,
   "id": "e599678c",
   "metadata": {},
   "outputs": [
    {
     "data": {
      "image/png": "[encoded data removed]",
      "text/plain": [
       "<Figure size 432x288 with 1 Axes>"
      ]
     },
     "metadata": {
      "needs_background": "light"
     },
     "output_type": "display_data"
    }
   ],
   "source": [
    "\n",
    "#\n",
    "# Program 1.1: Motion with constant acceleration (motion.py)\n",
    "# J Wang, Computational modeling and visualization with Python\n",
    "#\n",
    "\n",
    "import matplotlib.pyplot as plt # get matplotlib plot functions \n",
    "import sys\n",
    "\n",
    "#if (sys.version_info[0] < 3):\n",
    "#    a, v0 = input('enter a, v0 (eg 1.0, 0.0) : ')   # read input 2.xx \n",
    "#else:\n",
    "#    a, v0 = eval(input('enter a, v0 (eg 1.0, 0.0) : '))   # 3.xx\n",
    "t, h, n,a,v0 = 0.0, 0.1, 20, -9.8, 1         # init time, step size, number of steps\n",
    "ta, xa = [], []                 # time and position arrays for plotting \n",
    "\n",
    "for i in range(n):              # loop for n steps  \n",
    "    ta.append(t)                # record time and position\n",
    "    xa.append(v0*t + a*t*t/2.0)\n",
    "    t = t + h                   # update time \n",
    "\n",
    "plt.figure()                    # start a figure; no indent->end of loop    \n",
    "plt.plot(ta, xa, '-o')          # plot data\n",
    "plt.xlabel('t (s)')             # add labels\n",
    "plt.ylabel('x (m)')\n",
    "plt.show()                      # show figure"
   ]
  },
  {
   "cell_type": "code",
   "execution_count": 25,
   "id": "7f4fc6b4",
   "metadata": {},
   "outputs": [
    {
     "data": {
      "image/png": "[encoded data removed]",
      "text/plain": [
       "<Figure size 432x288 with 1 Axes>"
      ]
     },
     "metadata": {
      "needs_background": "light"
     },
     "output_type": "display_data"
    }
   ],
   "source": [
    "import matplotlib.pyplot as plt # get matplotlib plot functions \n",
    "import sys\n",
    "\n",
    "#if (sys.version_info[0] < 3):\n",
    "#    a, v0 = input('enter a, v0 (eg 1.0, 0.0) : ')   # read input 2.xx \n",
    "#else:\n",
    "#    a, v0 = eval(input('enter a, v0 (eg 1.0, 0.0) : '))   # 3.xx\n",
    "t, h, n,a,v0 = 0.0, 0.1, 20, -9.8, 2         # init time, step size, number of steps\n",
    "ta, xa = [], []                 # time and position arrays for plotting \n",
    "\n",
    "for i in range(n):              # loop for n steps  \n",
    "    ta.append(t)                # record time and position\n",
    "    xa.append(v0*t + a*t*t/2.0)\n",
    "    t = t + h                   # update time \n",
    "\n",
    "plt.figure()                    # start a figure; no indent->end of loop    \n",
    "plt.plot(ta, xa, '-o')          # plot data\n",
    "plt.xlabel('t (s)')             # add labels\n",
    "plt.ylabel('x (m)')\n",
    "plt.show() "
   ]
  },
  {
   "cell_type": "code",
   "execution_count": 29,
   "id": "45ee7b75",
   "metadata": {},
   "outputs": [
    {
     "data": {
      "image/png": "[encoded data removed]",
      "text/plain": [
       "<Figure size 432x288 with 1 Axes>"
      ]
     },
     "metadata": {
      "needs_background": "light"
     },
     "output_type": "display_data"
    }
   ],
   "source": [
    "import matplotlib.pyplot as plt # get matplotlib plot functions \n",
    "import sys\n",
    "\n",
    "#if (sys.version_info[0] < 3):\n",
    "#    a, v0 = input('enter a, v0 (eg 1.0, 0.0) : ')   # read input 2.xx \n",
    "#else:\n",
    "#    a, v0 = eval(input('enter a, v0 (eg 1.0, 0.0) : '))   # 3.xx\n",
    "t, h, n,a,v0 = 0.0, 0.1, 220, -9.8, 100         # init time, step size, number of steps\n",
    "ta, xa = [], []                 # time and position arrays for plotting \n",
    "\n",
    "for i in range(n):              # loop for n steps  \n",
    "    ta.append(t)                # record time and position\n",
    "    xa.append(v0*t + a*t*t/2.0)\n",
    "    t = t + h                   # update time \n",
    "\n",
    "plt.figure()                    # start a figure; no indent->end of loop    \n",
    "plt.plot(ta, xa, '-o')          # plot data\n",
    "plt.xlabel('t (s)')             # add labels\n",
    "plt.ylabel('x (m)')\n",
    "plt.show() "
   ]
  },
  {
   "cell_type": "markdown",
   "id": "adf01686",
   "metadata": {},
   "source": [
    "### We see that with larger initial velocities, the longer the distance the particle travels. We also notice that the particles mass is not used in this code example. That is because free fall motion does not depend on the particles mass. Physically, in flat spacetime, we would see the particle stop at 0. But mathematically, if we include more time steps, we see the particle move past the zero mark which is ok from a math standpoint. This plot shows us a particle moving straight up and down. How high the particle traveled upwards and the time it took to get back to the starting point."
   ]
  },
  {
   "cell_type": "code",
   "execution_count": null,
   "id": "c1ad0829",
   "metadata": {},
   "outputs": [],
   "source": []
  }
 ],
 "metadata": {
  "kernelspec": {
   "display_name": "Python 3 (ipykernel)",
   "language": "python",
   "name": "python3"
  },
  "language_info": {
   "codemirror_mode": {
    "name": "ipython",
    "version": 3
   },
   "file_extension": ".py",
   "mimetype": "text/x-python",
   "name": "python",
   "nbconvert_exporter": "python",
   "pygments_lexer": "ipython3",
   "version": "3.9.5"
  }
 },
 "nbformat": 4,
 "nbformat_minor": 5
}
