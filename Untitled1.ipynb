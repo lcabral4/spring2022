{
 "cells": [
  {
   "cell_type": "markdown",
   "id": "c5071f7e",
   "metadata": {},
   "source": [
    "### Logan Cabral                                                  Homework 2                                                       \n",
    "\n",
    "### Consider the roots of the quadratic equation $ax^2 + bx + c = 0$,\n",
    "\n",
    "### $x_{1,2} = \\frac{-b \\pm \\sqrt{-b^2-4ac}}{2a} = \\frac{2c}{-b \\mp \\sqrt{b^2-4ac}}$"
   ]
  },
  {
   "cell_type": "markdown",
   "id": "508e3922",
   "metadata": {},
   "source": [
    "### a) Write a program to calculate the roots, taking a,b,c as input from the user, and printing out the answers to the screen. Choose any of the equivalent expressions above. Test it on the following numbers:\n",
    "\n",
    "### a = 3.0 ×10−3, b = −2.0, c = 10−4, a = 1.2 ×10−17, b = 5.5, c = 10−13"
   ]
  },
  {
   "cell_type": "code",
   "execution_count": 2,
   "id": "734b497b",
   "metadata": {},
   "outputs": [
    {
     "name": "stdout",
     "output_type": "stream",
     "text": [
      "666.6666169341801\n",
      "5.0000003750000563e-05\n",
      "666.6666169341801\n",
      "5.0000003750000563e-05\n"
     ]
    }
   ],
   "source": [
    "import numpy as np\n",
    "\n",
    "a,b,c = 3.0 * 10**(-3), -2.0, 10**(-4)\n",
    "x = 2*c/(-b - np.sqrt(b**2 - 4*a*c))\n",
    "print(x)\n",
    "x = 2*c/(-b + np.sqrt(b**2 - 4*a*c))\n",
    "print(x)\n",
    "x = 2*c/(-b - np.sqrt(b**2 - 4*a*c))\n",
    "print(x)\n",
    "x = 2*c/(-b + np.sqrt(b**2 - 4*a*c))\n",
    "print(x)"
   ]
  },
  {
   "cell_type": "code",
   "execution_count": 3,
   "id": "fc1d9a9c",
   "metadata": {},
   "outputs": [
    {
     "name": "stdout",
     "output_type": "stream",
     "text": [
      "0.0\n",
      "-4.583333333333333e+17\n",
      "-1.8181818181818182e-05\n",
      "inf\n"
     ]
    },
    {
     "name": "stderr",
     "output_type": "stream",
     "text": [
      "/tmp/ipykernel_15602/252334979.py:9: RuntimeWarning: divide by zero encountered in double_scalars\n",
      "  x = 2*c/(-b + np.sqrt(b**2 - 4*a*c))\n"
     ]
    }
   ],
   "source": [
    "import numpy as np\n",
    "a,b,c = 1.2*10**(-17), 5.5, 10**(-4)\n",
    "x = (-b+np.sqrt(b**2-4*a*c))/(2*a)\n",
    "print(x)\n",
    "x = (-b-np.sqrt(b**2-4*a*c))/(2*a)\n",
    "print(x)\n",
    "x = 2*c/(-b - np.sqrt(b**2 - 4*a*c))\n",
    "print(x)\n",
    "x = 2*c/(-b + np.sqrt(b**2 - 4*a*c))\n",
    "print(x)"
   ]
  },
  {
   "cell_type": "markdown",
   "id": "c4ca8308",
   "metadata": {},
   "source": [
    "### Are the results correct for all cases? What kind of numerical error is responsible?\n",
    "\n",
    "### No, the results are not the same for all cases. What this comes down to is machine accuracy. The point of this problem is to show that just because you enter a formula the way it is written mathematically does not mean you will get the correct result. For computing, to solve this issue and continuously get accurate results, you will nbeed to use a python package already made to solve the equation or you will have to make use of the taylor series. "
   ]
  },
  {
   "cell_type": "markdown",
   "id": "7a07d35f",
   "metadata": {},
   "source": [
    "### (b) To control the error, modify your program so that it correctly computes the roots to within machine precision, no matter the values of a,b,c.(b) To control the error, modify your program so that it correctly computes the roots to within machine precision, no matter the values of a,b,c."
   ]
  },
  {
   "cell_type": "markdown",
   "id": "95d780fe",
   "metadata": {},
   "source": [
    "### Making use of the taylor series, we now modify both equations such that\n",
    "\n",
    "$X_{1,2} = \\frac{2c}{-b \\pm b - \\frac{2ac}{b}} = \\frac{-b \\pm b - \\frac{2ac}{b}}{2a}$"
   ]
  },
  {
   "cell_type": "code",
   "execution_count": 5,
   "id": "d9a24bad",
   "metadata": {},
   "outputs": [
    {
     "name": "stdout",
     "output_type": "stream",
     "text": [
      "-4.583333333333333e+17\n",
      "-1.8181818181818182e-05\n",
      "-4.583333333333333e+17\n",
      "-1.8181818181818182e-05\n"
     ]
    }
   ],
   "source": [
    "x = 2*c/(-b + b-2*a*c/b)\n",
    "print(x)\n",
    "x = 2*c/(-b-b-2*a*c/b)\n",
    "print(x)\n",
    "\n",
    "x = (-b -b -2*a*c/b)/(2*a)\n",
    "print(x)\n",
    "x = (-b + b - 2*a*c/b)/(2*a)\n",
    "print(x)"
   ]
  },
  {
   "cell_type": "code",
   "execution_count": null,
   "id": "0e82bbf1",
   "metadata": {},
   "outputs": [],
   "source": []
  }
 ],
 "metadata": {
  "kernelspec": {
   "display_name": "Python 3 (ipykernel)",
   "language": "python",
   "name": "python3"
  },
  "language_info": {
   "codemirror_mode": {
    "name": "ipython",
    "version": 3
   },
   "file_extension": ".py",
   "mimetype": "text/x-python",
   "name": "python",
   "nbconvert_exporter": "python",
   "pygments_lexer": "ipython3",
   "version": "3.9.7"
  }
 },
 "nbformat": 4,
 "nbformat_minor": 5
}
