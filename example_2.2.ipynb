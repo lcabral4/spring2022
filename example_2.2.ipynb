{
 "cells": [
  {
   "cell_type": "code",
   "execution_count": 22,
   "id": "5e3103ce",
   "metadata": {},
   "outputs": [
    {
     "name": "stdout",
     "output_type": "stream",
     "text": [
      "666.6666169341801\n",
      "5.0000003750000563e-05\n",
      "5.0000003750000563e-05\n",
      "666.6666169341801\n"
     ]
    }
   ],
   "source": [
    "import numpy as np\n",
    "\n",
    "a,b,c = 3.0 * 10**(-3), -2.0, 10**(-4)\n",
    "x = 2*c/(-b - np.sqrt(b**2 - 4*a*c))\n",
    "print(x)\n",
    "x = 2*c/(-b + np.sqrt(b**2 - 4*a*c))\n",
    "print(x)\n",
    "x = 2*c/(-b + np.sqrt(b**2 - 4*a*c))\n",
    "print(x)\n",
    "x = 2*c/(-b - np.sqrt(b**2 - 4*a*c))\n",
    "print(x)"
   ]
  },
  {
   "cell_type": "code",
   "execution_count": 10,
   "id": "189ae033",
   "metadata": {},
   "outputs": [
    {
     "name": "stdout",
     "output_type": "stream",
     "text": [
      "0.0\n",
      "-4.583333333333333e+17\n",
      "-1.8181818181818182e-05\n",
      "inf\n"
     ]
    },
    {
     "name": "stderr",
     "output_type": "stream",
     "text": [
      "/tmp/ipykernel_15108/2914294565.py:9: RuntimeWarning: divide by zero encountered in double_scalars\n",
      "  x = 2*c/(-b + np.sqrt(b**2 - 4*a*c))\n"
     ]
    }
   ],
   "source": [
    "import numpy as np\n",
    "a,b,c = 1.2*10**(-17), 5.5, 10**(-4)\n",
    "x = (-b+np.sqrt(b**2-4*a*c))/(2*a)\n",
    "print(x)\n",
    "x = (-b-np.sqrt(b**2-4*a*c))/(2*a)\n",
    "print(x)\n",
    "x = 2*c/(-b - np.sqrt(b**2 - 4*a*c))\n",
    "print(x)\n",
    "x = 2*c/(-b + np.sqrt(b**2 - 4*a*c))\n",
    "print(x)\n"
   ]
  },
  {
   "cell_type": "code",
   "execution_count": 14,
   "id": "b3696bdd",
   "metadata": {},
   "outputs": [
    {
     "name": "stdout",
     "output_type": "stream",
     "text": [
      "-4.583333333333333e+17\n",
      "-1.8181818181818182e-05\n",
      "-4.583333333333333e+17\n",
      "-1.8181818181818182e-05\n"
     ]
    }
   ],
   "source": [
    "x = 2*c/(-b + b-2*a*c/b)\n",
    "print(x)\n",
    "x = 2*c/(-b-b-2*a*c/b)\n",
    "print(x)\n",
    "\n",
    "x = (-b -b -2*a*c/b)/(2*a)\n",
    "print(x)\n",
    "x = (-b + b - 2*a*c/b)/(2*a)\n",
    "print(x)"
   ]
  },
  {
   "cell_type": "code",
   "execution_count": null,
   "id": "1a7f1bf7",
   "metadata": {},
   "outputs": [],
   "source": []
  }
 ],
 "metadata": {
  "kernelspec": {
   "display_name": "Python 3 (ipykernel)",
   "language": "python",
   "name": "python3"
  },
  "language_info": {
   "codemirror_mode": {
    "name": "ipython",
    "version": 3
   },
   "file_extension": ".py",
   "mimetype": "text/x-python",
   "name": "python",
   "nbconvert_exporter": "python",
   "pygments_lexer": "ipython3",
   "version": "3.9.7"
  }
 },
 "nbformat": 4,
 "nbformat_minor": 5
}
